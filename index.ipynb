{
 "cells": [
  {
   "cell_type": "markdown",
   "metadata": {},
   "source": [
    "# Statistical Power - Lab\n",
    "\n",
    "## Introduction\n",
    "\n",
    "\n",
    "In this lesson, you'll practice doing a power-analysis during experimental design. As you've seen, power analysis allows you to determine the sample size required to detect an effect of a given size with a given degree of confidence. In other words, it allows you to determine the probability of detecting an effect of a given size with a given level of confidence, under-sample size constraints.\n",
    "\n",
    "The following four factors have an intimate relationship:\n",
    "\n",
    "* Sample size\n",
    "* Effect size\n",
    "* Significance level = P (Type I error) = probability of finding an effect that is not there\n",
    "* **Power = 1 - P (Type II error)** = probability of finding an effect that is there\n",
    "\n",
    "Given any three of these, we can easily determine the fourth.\n",
    "\n",
    "## Objectives\n",
    "\n",
    "In this lab you will: \n",
    "\n",
    "- Describe the impact of sample size and effect size on power \n",
    "- Perform power calculation using SciPy and Python \n",
    "- Demonstrate the combined effect of sample size and effect size on statistical power using simulations\n",
    "\n",
    "## Let's get started!\n",
    "  \n",
    "To start, let's import the necessary libraries required for this simulation: "
   ]
  },
  {
   "cell_type": "code",
   "execution_count": 1,
   "metadata": {},
   "outputs": [],
   "source": [
    "import numpy as np\n",
    "import scipy.stats as stats\n",
    "import pandas as pd\n",
    "import matplotlib.pyplot as plt\n",
    "import seaborn as sns\n",
    "sns.set_style('darkgrid')"
   ]
  },
  {
   "cell_type": "markdown",
   "metadata": {},
   "source": [
    "## Scenario\n",
    "\n",
    "A researcher wants to study how daily protein supplementation in the elderly population will affect baseline liver fat. The study budget will allow enrollment of 24 patients. Half will be randomized to a placebo group and half to the protein supplement treatment group and the trial will be carried out over one month. It is desired to see whether the mean change in percentage of liver fat from baseline to the end of the study differs between the two groups in the study. \n",
    "\n",
    "With this, the researcher writes the null hypothesis: \n",
    "\n",
    "    There is no difference between experimental and control group mean change in percentage of liver fat \n",
    "    \n",
    "$$\\mu_{1} = \\mu_{2}$$\n",
    "  \n",
    "And the alternative Hypothesis:\n",
    "\n",
    "    There is a difference between experimental and control group mean change in percentage of liver fat \n",
    "\n",
    "$$\\mu_{1} \\neq \\mu_{2}$$\n",
    "    \n",
    "  \n",
    "\n",
    "The researcher needs to know what power  will be obtained under the sample size restrictions to identify a change in mean percent liver fat of 0.17. Based on past results, a common standard deviation of 0.21 will be used for each treatment group in the power analysis. \n",
    "\n",
    "To determine the practicality of this experimental design, you'll run a power analysis simulation: "
   ]
  },
  {
   "cell_type": "code",
   "execution_count": 3,
   "metadata": {},
   "outputs": [],
   "source": [
    "# Number of patients in each group\n",
    "sample_size = 12\n",
    "\n",
    "# Control group\n",
    "control_mean = 0\n",
    "control_sd = 0.21\n",
    "\n",
    "# Experimental group\n",
    "experimental_mean = 0.17\n",
    "experimental_sd = 0.21\n",
    "\n",
    "# Set the number of simulations for our test = 1000\n",
    "n_sim = 1000"
   ]
  },
  {
   "cell_type": "markdown",
   "metadata": {},
   "source": [
    "You can now start running simulations to run an independent t-test with above data and store the calculated p-value in our `p` array. Perform following tasks: \n",
    "\n",
    "* Initialize a numpy array and fill it with `NaN` values for storing the results (p_value) of the independent t-test  \n",
    "* For a defined number of simulations (i.e., 1000), do the following:\n",
    "\n",
    "    * Generate a random normal variable with control mean and sd\n",
    "    * Generate a random normal variable with experimental mean and sd\n",
    "    * Run and independent t-test using control and experimental data\n",
    "    * Store the p value for each test\n",
    "\n",
    "* Calculate the total number and overall proportion of simulations where the null hypothesis is rejected\n"
   ]
  },
  {
   "cell_type": "code",
   "execution_count": 7,
   "metadata": {},
   "outputs": [
    {
     "data": {
      "text/plain": [
       "0.495"
      ]
     },
     "execution_count": 7,
     "metadata": {},
     "output_type": "execute_result"
    }
   ],
   "source": [
    "# For reproducibility \n",
    "np.random.seed(10)\n",
    "\n",
    "# Initialize array to store results\n",
    "p = (np.empty(n_sim))\n",
    "p.fill(np.nan)\n",
    "\n",
    "#  Run a for loop for range of values in n_sim\n",
    "for s in range(n_sim):\n",
    "    s1 = np.random.normal(control_mean, \n",
    "                          control_sd, \n",
    "                          sample_size)\n",
    "    s2 = np.random.normal(experimental_mean, \n",
    "                          experimental_sd, \n",
    "                          sample_size)\n",
    "    \n",
    "    t = stats.ttest_ind(s1, s2)\n",
    "    p[s] = t.pvalue\n",
    "\n",
    "# number of null hypothesis rejections\n",
    "num_null_rejects = sum(p < .05)\n",
    "power = num_null_rejects / n_sim\n",
    "\n",
    "power\n",
    "\n",
    "# 0.495"
   ]
  },
  {
   "cell_type": "markdown",
   "metadata": {},
   "source": [
    "These results indicate that using 12 participants in each group and with given statistics, the statistical power of the experiment is 49%. This can be interpreted as follows:\n",
    "\n",
    "> **If a large effect (0.17 or greater) is truly present between control and experimental groups, then the null hypothesis (i.e. no difference with alpha 0.05) would be rejected 49% of the time. **"
   ]
  },
  {
   "cell_type": "markdown",
   "metadata": {},
   "source": [
    "## Sample size requirements for a given effect size\n",
    "\n",
    "Often in behavioral research 0.8 is accepted as a sufficient level of power.  \n",
    "\n",
    "Clearly, this is not the case for the experiment as currently designed. Determine the required sample size in order to identify a difference of 0.17 or greater between the group means with an 80% power."
   ]
  },
  {
   "cell_type": "code",
   "execution_count": 8,
   "metadata": {},
   "outputs": [],
   "source": [
    "# Required power\n",
    "target = 0.8"
   ]
  },
  {
   "cell_type": "code",
   "execution_count": 13,
   "metadata": {},
   "outputs": [],
   "source": [
    "from statsmodels.stats.power import TTestIndPower\n",
    "power = TTestIndPower()"
   ]
  },
  {
   "cell_type": "code",
   "execution_count": 15,
   "metadata": {},
   "outputs": [
    {
     "data": {
      "text/plain": [
       "24.951708908275144"
      ]
     },
     "execution_count": 15,
     "metadata": {},
     "output_type": "execute_result"
    }
   ],
   "source": [
    "# Determine the sample size\n",
    "power.solve_power(effect_size= 0.17/0.21,alpha= 0.05, power =0.8)"
   ]
  },
  {
   "cell_type": "code",
   "execution_count": null,
   "metadata": {},
   "outputs": [],
   "source": [
    "# Minimum sample size to start the simulations \n",
    "sample_size = 12\n",
    "null_rejected = 0\n",
    "n_sim = 10000"
   ]
  },
  {
   "cell_type": "markdown",
   "metadata": {},
   "source": [
    "As above, perform the following\n",
    "\n",
    "* Initialize an empty array for storing results\n",
    "* initialize a list for storing sample size x power summary\n",
    "* While current power is less than the target power\n",
    "    * Generate distributions for control and experimental groups using given statistics (as before)\n",
    "    * Run a t-test and store results\n",
    "    * Calculate current power \n",
    "    * Output current sample size and power calculated for inspection\n",
    "    * Store results: Sample size, power\n",
    "    * increase the sample size by 1 and repeat"
   ]
  },
  {
   "cell_type": "code",
   "execution_count": 56,
   "metadata": {},
   "outputs": [
    {
     "name": "stdout",
     "output_type": "stream",
     "text": [
      "Sample Size: 12,\tPower: 0.495\n",
      "Sample Size: 13,\tPower: 0.495\n",
      "Sample Size: 14,\tPower: 0.56\n",
      "Sample Size: 15,\tPower: 0.583\n",
      "Sample Size: 16,\tPower: 0.593\n",
      "Sample Size: 17,\tPower: 0.647\n",
      "Sample Size: 18,\tPower: 0.666\n",
      "Sample Size: 19,\tPower: 0.698\n",
      "Sample Size: 20,\tPower: 0.699\n",
      "Sample Size: 21,\tPower: 0.766\n",
      "Sample Size: 22,\tPower: 0.723\n",
      "Sample Size: 23,\tPower: 0.756\n",
      "Sample Size: 24,\tPower: 0.786\n",
      "Sample Size: 25,\tPower: 0.795\n",
      "Sample Size: 26,\tPower: 0.844\n"
     ]
    }
   ],
   "source": [
    "#np.random.seed(10)\n",
    "\n",
    "p = (np.empty(n_sim))\n",
    "p.fill(np.nan)\n",
    "\n",
    "power_sample = {}\n",
    "\n",
    "power = 0\n",
    "target_power = 0.8\n",
    "n_sim = 1000\n",
    "sample_size = 12\n",
    "# Keep iterating as shown above until desired power is obtained\n",
    "while power < target_power:\n",
    "    #print(power, target_power)\n",
    "    p = (np.empty(n_sim))\n",
    "    p.fill(np.nan)\n",
    "\n",
    "    for s in range(n_sim):\n",
    "        s1 = np.random.normal(control_mean, \n",
    "                              control_sd, \n",
    "                              sample_size)\n",
    "        s2 = np.random.normal(experimental_mean, \n",
    "                              experimental_sd, \n",
    "                              sample_size)\n",
    "\n",
    "        t = stats.ttest_ind(s1, s2)\n",
    "        p[s] = t.pvalue\n",
    "\n",
    "    # number of null hypothesis rejections\n",
    "    num_null_rejects = sum(p < .05)\n",
    "    power = num_null_rejects / n_sim\n",
    "    \n",
    "    print(f'Sample Size: {sample_size},\\tPower: {power}')\n",
    "    \n",
    "    power_sample[sample_size] = power\n",
    "    \n",
    "    sample_size += 1"
   ]
  },
  {
   "cell_type": "markdown",
   "metadata": {},
   "source": [
    "You can also plot the calculated power against sample size to visually inspect the effect of increasing sample size. "
   ]
  },
  {
   "cell_type": "code",
   "execution_count": 57,
   "metadata": {},
   "outputs": [
    {
     "data": {
      "text/plain": [
       "[<matplotlib.lines.Line2D at 0x7f3190060250>]"
      ]
     },
     "execution_count": 57,
     "metadata": {},
     "output_type": "execute_result"
    },
    {
     "data": {
      "image/png": "[encoded data removed]",
      "text/plain": [
       "<Figure size 432x288 with 1 Axes>"
      ]
     },
     "metadata": {},
     "output_type": "display_data"
    }
   ],
   "source": [
    "# Plot a sample size X Power line graph \n",
    "\n",
    "plt.plot(power_sample.keys(), power_sample.values())"
   ]
  },
  {
   "cell_type": "markdown",
   "metadata": {},
   "source": [
    "This output indicates that in order to get the required power (80%) to detect a difference of 0.17, you would need a considerably higher number of patients. "
   ]
  },
  {
   "cell_type": "markdown",
   "metadata": {},
   "source": [
    "## BONUS: Investigating the relationship between Power, Sample Size, and Effect Size\n",
    "\n",
    "You've seen how to calculate power given alpha, sample size, and effect size. To further investigate this relationship, it is interesting to plot the relationship between power and sample size for various effect sizes. \n",
    "\n",
    "To do this, run multiple simulations for varying parameters. Then store the parameters and plot the resulting dataset. Specifically:\n",
    "\n",
    "1. Use a value of $\\alpha$ = 0.05 for all of your simulations\n",
    "2. Use the following effect sizes: [0.01, 0.05, 0.1, 0.15, 0.2, 0.3, 0.5]\n",
    "3. Use the sample sizes from 10 to 500\n",
    "4. For each effect size sample size combination, calculate the accompanying power\n",
    "5. Plot a line graph of the power vs sample size relationship. You should have 7 plots; one for each of the effect sizes listed above. All 7 plots can be on the same graph but should be labeled appropriately. Plot the power on the y-axis and sample size on the x-axis."
   ]
  },
  {
   "cell_type": "code",
   "execution_count": 60,
   "metadata": {},
   "outputs": [
    {
     "data": {
      "text/html": [
       "<div>\n",
       "<style scoped>\n",
       "    .dataframe tbody tr th:only-of-type {\n",
       "        vertical-align: middle;\n",
       "    }\n",
       "\n",
       "    .dataframe tbody tr th {\n",
       "        vertical-align: top;\n",
       "    }\n",
       "\n",
       "    .dataframe thead th {\n",
       "        text-align: right;\n",
       "    }\n",
       "</style>\n",
       "<table border=\"1\" class=\"dataframe\">\n",
       "  <thead>\n",
       "    <tr style=\"text-align: right;\">\n",
       "      <th></th>\n",
       "      <th>Effect Size</th>\n",
       "      <th>Number of Samples</th>\n",
       "      <th>Power</th>\n",
       "    </tr>\n",
       "  </thead>\n",
       "  <tbody>\n",
       "    <tr>\n",
       "      <th>0</th>\n",
       "      <td>0.01</td>\n",
       "      <td>10.0</td>\n",
       "      <td>0.050051</td>\n",
       "    </tr>\n",
       "    <tr>\n",
       "      <th>1</th>\n",
       "      <td>0.05</td>\n",
       "      <td>10.0</td>\n",
       "      <td>0.051287</td>\n",
       "    </tr>\n",
       "    <tr>\n",
       "      <th>2</th>\n",
       "      <td>0.10</td>\n",
       "      <td>10.0</td>\n",
       "      <td>0.055161</td>\n",
       "    </tr>\n",
       "    <tr>\n",
       "      <th>3</th>\n",
       "      <td>0.15</td>\n",
       "      <td>10.0</td>\n",
       "      <td>0.061655</td>\n",
       "    </tr>\n",
       "    <tr>\n",
       "      <th>4</th>\n",
       "      <td>0.20</td>\n",
       "      <td>10.0</td>\n",
       "      <td>0.070821</td>\n",
       "    </tr>\n",
       "    <tr>\n",
       "      <th>...</th>\n",
       "      <td>...</td>\n",
       "      <td>...</td>\n",
       "      <td>...</td>\n",
       "    </tr>\n",
       "    <tr>\n",
       "      <th>3432</th>\n",
       "      <td>0.10</td>\n",
       "      <td>500.0</td>\n",
       "      <td>0.352044</td>\n",
       "    </tr>\n",
       "    <tr>\n",
       "      <th>3433</th>\n",
       "      <td>0.15</td>\n",
       "      <td>500.0</td>\n",
       "      <td>0.658907</td>\n",
       "    </tr>\n",
       "    <tr>\n",
       "      <th>3434</th>\n",
       "      <td>0.20</td>\n",
       "      <td>500.0</td>\n",
       "      <td>0.884788</td>\n",
       "    </tr>\n",
       "    <tr>\n",
       "      <th>3435</th>\n",
       "      <td>0.30</td>\n",
       "      <td>500.0</td>\n",
       "      <td>0.997273</td>\n",
       "    </tr>\n",
       "    <tr>\n",
       "      <th>3436</th>\n",
       "      <td>0.50</td>\n",
       "      <td>500.0</td>\n",
       "      <td>1.000000</td>\n",
       "    </tr>\n",
       "  </tbody>\n",
       "</table>\n",
       "<p>3437 rows × 3 columns</p>\n",
       "</div>"
      ],
      "text/plain": [
       "      Effect Size  Number of Samples     Power\n",
       "0            0.01               10.0  0.050051\n",
       "1            0.05               10.0  0.051287\n",
       "2            0.10               10.0  0.055161\n",
       "3            0.15               10.0  0.061655\n",
       "4            0.20               10.0  0.070821\n",
       "...           ...                ...       ...\n",
       "3432         0.10              500.0  0.352044\n",
       "3433         0.15              500.0  0.658907\n",
       "3434         0.20              500.0  0.884788\n",
       "3435         0.30              500.0  0.997273\n",
       "3436         0.50              500.0  1.000000\n",
       "\n",
       "[3437 rows x 3 columns]"
      ]
     },
     "execution_count": 60,
     "metadata": {},
     "output_type": "execute_result"
    }
   ],
   "source": [
    "alpha = 0.05\n",
    "effect_sizes = [0.01, 0.05, 0.1, 0.15, 0.2, 0.3, 0.5]\n",
    "sample_sizes = list(range(10, 501))\n",
    "n_sim = 1000\n",
    "sd = 0.21\n",
    "result = pd.DataFrame(columns = ['Effect Size', 'Number of Samples', 'Power'])\n",
    "ttpower = TTestIndPower()\n",
    "for sample_size in sample_sizes:\n",
    "    for effect_size in effect_sizes:\n",
    "\n",
    "        power = ttpower.solve_power(effect_size=effect_size, \n",
    "                                  alpha= alpha, \n",
    "                                  nobs1=sample_size )\n",
    "        result = result.append({'Effect Size': effect_size,\n",
    "                                'Number of Samples': sample_size, \n",
    "                                'Power': power}, ignore_index=True)\n",
    "result"
   ]
  },
  {
   "cell_type": "code",
   "execution_count": 67,
   "metadata": {},
   "outputs": [
    {
     "data": {
      "text/plain": [
       "<seaborn.axisgrid.FacetGrid at 0x7f3182530610>"
      ]
     },
     "execution_count": 67,
     "metadata": {},
     "output_type": "execute_result"
    },
    {
     "data": {
      "image/png": "[encoded data removed]",
      "text/plain": [
       "<Figure size 1440x720 with 7 Axes>"
      ]
     },
     "metadata": {},
     "output_type": "display_data"
    }
   ],
   "source": [
    "sns.relplot(x = 'Number of Samples', \n",
    "            y = 'Power', \n",
    "            col = 'Effect Size',\n",
    "            col_wrap = 4,\n",
    "            kind='line',\n",
    "            data = result\n",
    "           )"
   ]
  },
  {
   "cell_type": "markdown",
   "metadata": {},
   "source": [
    "## Summary\n",
    "\n",
    "In this lesson, you gained further practice with \"statistical power\" and how it can be used to analyze experimental design. You ran a simulation to determine the sample size that would provide a given value of power (for a given alpha and effect size). Running simulations like this, as well as further investigations regarding required sample sizes for higher power thresholds or smaller effect sizes is critical in designing meaningful experiments where one can be confident in the subsequent conclusions drawn."
   ]
  }
 ],
 "metadata": {
  "kernelspec": {
   "display_name": "Python 3",
   "language": "python",
   "name": "python3"
  },
  "language_info": {
   "codemirror_mode": {
    "name": "ipython",
    "version": 3
   },
   "file_extension": ".py",
   "mimetype": "text/x-python",
   "name": "python",
   "nbconvert_exporter": "python",
   "pygments_lexer": "ipython3",
   "version": "3.8.5"
  },
  "toc": {
   "base_numbering": 1,
   "nav_menu": {},
   "number_sections": true,
   "sideBar": true,
   "skip_h1_title": false,
   "title_cell": "Table of Contents",
   "title_sidebar": "Contents",
   "toc_cell": false,
   "toc_position": {},
   "toc_section_display": true,
   "toc_window_display": false
  }
 },
 "nbformat": 4,
 "nbformat_minor": 2
}
